{
 "cells": [
  {
   "cell_type": "markdown",
   "metadata": {},
   "source": [
    "### Model Training"
   ]
  },
  {
   "cell_type": "code",
   "execution_count": null,
   "metadata": {},
   "outputs": [],
   "source": [
    "## General libraries\n",
    "\n",
    "import numpy as np\n",
    "import matplotlib.pyplot as plt\n",
    "import seaborn as sns\n",
    "import pandas as pd\n",
    "\n",
    "## Modelling libraries\n",
    "from sklearn.linear_model import LinearRegression, Ridge, Lasso\n",
    "from sklearn.svm import SVR\n",
    "from sklearn.tree import DecisionTreeRegressor\n",
    "from sklearn.ensemble import RandomForestRegressor, AdaBoostRegressor, GradientBoostingRegressor\n",
    "from catboost import CatBoostRegressor\n",
    "from sklearn.model_selection import train_test_split, RandomizedSearchCV\n",
    "from sklearn.neighbors import KNeighborsRegressor\n",
    "from sklearn.metrics import r2_score, mean_squared_error, mean_absolute_error\n"
   ]
  },
  {
   "cell_type": "code",
   "execution_count": 36,
   "metadata": {},
   "outputs": [
    {
     "data": {
      "text/html": [
       "<div>\n",
       "<style scoped>\n",
       "    .dataframe tbody tr th:only-of-type {\n",
       "        vertical-align: middle;\n",
       "    }\n",
       "\n",
       "    .dataframe tbody tr th {\n",
       "        vertical-align: top;\n",
       "    }\n",
       "\n",
       "    .dataframe thead th {\n",
       "        text-align: right;\n",
       "    }\n",
       "</style>\n",
       "<table border=\"1\" class=\"dataframe\">\n",
       "  <thead>\n",
       "    <tr style=\"text-align: right;\">\n",
       "      <th></th>\n",
       "      <th>gender</th>\n",
       "      <th>race_ethnicity</th>\n",
       "      <th>parental_level_of_education</th>\n",
       "      <th>lunch</th>\n",
       "      <th>test_preparation_course</th>\n",
       "      <th>math_score</th>\n",
       "      <th>reading_score</th>\n",
       "      <th>writing_score</th>\n",
       "    </tr>\n",
       "  </thead>\n",
       "  <tbody>\n",
       "    <tr>\n",
       "      <th>0</th>\n",
       "      <td>female</td>\n",
       "      <td>group B</td>\n",
       "      <td>bachelor's degree</td>\n",
       "      <td>standard</td>\n",
       "      <td>none</td>\n",
       "      <td>72</td>\n",
       "      <td>72</td>\n",
       "      <td>74</td>\n",
       "    </tr>\n",
       "    <tr>\n",
       "      <th>1</th>\n",
       "      <td>female</td>\n",
       "      <td>group C</td>\n",
       "      <td>some college</td>\n",
       "      <td>standard</td>\n",
       "      <td>completed</td>\n",
       "      <td>69</td>\n",
       "      <td>90</td>\n",
       "      <td>88</td>\n",
       "    </tr>\n",
       "    <tr>\n",
       "      <th>2</th>\n",
       "      <td>female</td>\n",
       "      <td>group B</td>\n",
       "      <td>master's degree</td>\n",
       "      <td>standard</td>\n",
       "      <td>none</td>\n",
       "      <td>90</td>\n",
       "      <td>95</td>\n",
       "      <td>93</td>\n",
       "    </tr>\n",
       "    <tr>\n",
       "      <th>3</th>\n",
       "      <td>male</td>\n",
       "      <td>group A</td>\n",
       "      <td>associate's degree</td>\n",
       "      <td>free/reduced</td>\n",
       "      <td>none</td>\n",
       "      <td>47</td>\n",
       "      <td>57</td>\n",
       "      <td>44</td>\n",
       "    </tr>\n",
       "    <tr>\n",
       "      <th>4</th>\n",
       "      <td>male</td>\n",
       "      <td>group C</td>\n",
       "      <td>some college</td>\n",
       "      <td>standard</td>\n",
       "      <td>none</td>\n",
       "      <td>76</td>\n",
       "      <td>78</td>\n",
       "      <td>75</td>\n",
       "    </tr>\n",
       "  </tbody>\n",
       "</table>\n",
       "</div>"
      ],
      "text/plain": [
       "   gender race_ethnicity parental_level_of_education         lunch  \\\n",
       "0  female        group B           bachelor's degree      standard   \n",
       "1  female        group C                some college      standard   \n",
       "2  female        group B             master's degree      standard   \n",
       "3    male        group A          associate's degree  free/reduced   \n",
       "4    male        group C                some college      standard   \n",
       "\n",
       "  test_preparation_course  math_score  reading_score  writing_score  \n",
       "0                    none          72             72             74  \n",
       "1               completed          69             90             88  \n",
       "2                    none          90             95             93  \n",
       "3                    none          47             57             44  \n",
       "4                    none          76             78             75  "
      ]
     },
     "execution_count": 36,
     "metadata": {},
     "output_type": "execute_result"
    }
   ],
   "source": [
    "df = pd.read_csv('data/stud.csv')\n",
    "df.head()"
   ]
  },
  {
   "cell_type": "markdown",
   "metadata": {},
   "source": [
    "#### Preparing X and Y value"
   ]
  },
  {
   "cell_type": "code",
   "execution_count": 37,
   "metadata": {},
   "outputs": [
    {
     "data": {
      "text/html": [
       "<div>\n",
       "<style scoped>\n",
       "    .dataframe tbody tr th:only-of-type {\n",
       "        vertical-align: middle;\n",
       "    }\n",
       "\n",
       "    .dataframe tbody tr th {\n",
       "        vertical-align: top;\n",
       "    }\n",
       "\n",
       "    .dataframe thead th {\n",
       "        text-align: right;\n",
       "    }\n",
       "</style>\n",
       "<table border=\"1\" class=\"dataframe\">\n",
       "  <thead>\n",
       "    <tr style=\"text-align: right;\">\n",
       "      <th></th>\n",
       "      <th>gender</th>\n",
       "      <th>race_ethnicity</th>\n",
       "      <th>parental_level_of_education</th>\n",
       "      <th>lunch</th>\n",
       "      <th>test_preparation_course</th>\n",
       "      <th>reading_score</th>\n",
       "      <th>writing_score</th>\n",
       "    </tr>\n",
       "  </thead>\n",
       "  <tbody>\n",
       "    <tr>\n",
       "      <th>0</th>\n",
       "      <td>female</td>\n",
       "      <td>group B</td>\n",
       "      <td>bachelor's degree</td>\n",
       "      <td>standard</td>\n",
       "      <td>none</td>\n",
       "      <td>72</td>\n",
       "      <td>74</td>\n",
       "    </tr>\n",
       "    <tr>\n",
       "      <th>1</th>\n",
       "      <td>female</td>\n",
       "      <td>group C</td>\n",
       "      <td>some college</td>\n",
       "      <td>standard</td>\n",
       "      <td>completed</td>\n",
       "      <td>90</td>\n",
       "      <td>88</td>\n",
       "    </tr>\n",
       "    <tr>\n",
       "      <th>2</th>\n",
       "      <td>female</td>\n",
       "      <td>group B</td>\n",
       "      <td>master's degree</td>\n",
       "      <td>standard</td>\n",
       "      <td>none</td>\n",
       "      <td>95</td>\n",
       "      <td>93</td>\n",
       "    </tr>\n",
       "    <tr>\n",
       "      <th>3</th>\n",
       "      <td>male</td>\n",
       "      <td>group A</td>\n",
       "      <td>associate's degree</td>\n",
       "      <td>free/reduced</td>\n",
       "      <td>none</td>\n",
       "      <td>57</td>\n",
       "      <td>44</td>\n",
       "    </tr>\n",
       "    <tr>\n",
       "      <th>4</th>\n",
       "      <td>male</td>\n",
       "      <td>group C</td>\n",
       "      <td>some college</td>\n",
       "      <td>standard</td>\n",
       "      <td>none</td>\n",
       "      <td>78</td>\n",
       "      <td>75</td>\n",
       "    </tr>\n",
       "  </tbody>\n",
       "</table>\n",
       "</div>"
      ],
      "text/plain": [
       "   gender race_ethnicity parental_level_of_education         lunch  \\\n",
       "0  female        group B           bachelor's degree      standard   \n",
       "1  female        group C                some college      standard   \n",
       "2  female        group B             master's degree      standard   \n",
       "3    male        group A          associate's degree  free/reduced   \n",
       "4    male        group C                some college      standard   \n",
       "\n",
       "  test_preparation_course  reading_score  writing_score  \n",
       "0                    none             72             74  \n",
       "1               completed             90             88  \n",
       "2                    none             95             93  \n",
       "3                    none             57             44  \n",
       "4                    none             78             75  "
      ]
     },
     "execution_count": 37,
     "metadata": {},
     "output_type": "execute_result"
    }
   ],
   "source": [
    "x=df.drop(['math_score'],axis=1)\n",
    "x.head()"
   ]
  },
  {
   "cell_type": "code",
   "execution_count": 38,
   "metadata": {},
   "outputs": [
    {
     "data": {
      "text/plain": [
       "0      72\n",
       "1      69\n",
       "2      90\n",
       "3      47\n",
       "4      76\n",
       "       ..\n",
       "995    88\n",
       "996    62\n",
       "997    59\n",
       "998    68\n",
       "999    77\n",
       "Name: math_score, Length: 1000, dtype: int64"
      ]
     },
     "execution_count": 38,
     "metadata": {},
     "output_type": "execute_result"
    }
   ],
   "source": [
    "y=df['math_score']\n",
    "y"
   ]
  },
  {
   "cell_type": "code",
   "execution_count": 39,
   "metadata": {},
   "outputs": [],
   "source": [
    "cat_features = [feature for feature in x.columns if x[feature].dtype=='O']\n",
    "num_features = [feature for feature in x.columns if x[feature].dtype!='O']"
   ]
  },
  {
   "cell_type": "code",
   "execution_count": 40,
   "metadata": {},
   "outputs": [
    {
     "data": {
      "text/plain": [
       "['gender',\n",
       " 'race_ethnicity',\n",
       " 'parental_level_of_education',\n",
       " 'lunch',\n",
       " 'test_preparation_course']"
      ]
     },
     "execution_count": 40,
     "metadata": {},
     "output_type": "execute_result"
    }
   ],
   "source": [
    "cat_features"
   ]
  },
  {
   "cell_type": "code",
   "execution_count": 41,
   "metadata": {},
   "outputs": [
    {
     "data": {
      "text/plain": [
       "['reading_score', 'writing_score']"
      ]
     },
     "execution_count": 41,
     "metadata": {},
     "output_type": "execute_result"
    }
   ],
   "source": [
    "num_features"
   ]
  },
  {
   "cell_type": "code",
   "execution_count": 42,
   "metadata": {},
   "outputs": [],
   "source": [
    "from sklearn.preprocessing import OneHotEncoder,StandardScaler\n",
    "from sklearn.compose import ColumnTransformer\n",
    "\n",
    "standard = StandardScaler()\n",
    "ohe = OneHotEncoder()\n",
    "\n",
    "preprocessor = ColumnTransformer(\n",
    "    [\n",
    "        ('Standard Scalar',standard,num_features),\n",
    "        ('One Hot Encoding', ohe, cat_features)\n",
    "    ]\n",
    ")\n",
    "\n"
   ]
  },
  {
   "cell_type": "code",
   "execution_count": 44,
   "metadata": {},
   "outputs": [
    {
     "data": {
      "text/plain": [
       "(1000, 7)"
      ]
     },
     "execution_count": 44,
     "metadata": {},
     "output_type": "execute_result"
    }
   ],
   "source": [
    "x.shape"
   ]
  },
  {
   "cell_type": "code",
   "execution_count": 45,
   "metadata": {},
   "outputs": [
    {
     "data": {
      "text/plain": [
       "array([[ 0.19399858,  0.39149181,  1.        , ...,  1.        ,\n",
       "         0.        ,  1.        ],\n",
       "       [ 1.42747598,  1.31326868,  1.        , ...,  1.        ,\n",
       "         1.        ,  0.        ],\n",
       "       [ 1.77010859,  1.64247471,  1.        , ...,  1.        ,\n",
       "         0.        ,  1.        ],\n",
       "       ...,\n",
       "       [ 0.12547206, -0.20107904,  1.        , ...,  0.        ,\n",
       "         1.        ,  0.        ],\n",
       "       [ 0.60515772,  0.58901542,  1.        , ...,  1.        ,\n",
       "         1.        ,  0.        ],\n",
       "       [ 1.15336989,  1.18158627,  1.        , ...,  0.        ,\n",
       "         0.        ,  1.        ]])"
      ]
     },
     "execution_count": 45,
     "metadata": {},
     "output_type": "execute_result"
    }
   ],
   "source": [
    "x = preprocessor.fit_transform(x)\n",
    "x"
   ]
  },
  {
   "cell_type": "code",
   "execution_count": 46,
   "metadata": {},
   "outputs": [
    {
     "data": {
      "text/plain": [
       "(1000, 19)"
      ]
     },
     "execution_count": 46,
     "metadata": {},
     "output_type": "execute_result"
    }
   ],
   "source": [
    "x.shape"
   ]
  },
  {
   "cell_type": "code",
   "execution_count": 47,
   "metadata": {},
   "outputs": [],
   "source": [
    "x_train,x_test, y_train,y_test = train_test_split(x,y,test_size=0.2, random_state=42)"
   ]
  },
  {
   "cell_type": "markdown",
   "metadata": {},
   "source": [
    "#### Create evaluate model"
   ]
  },
  {
   "cell_type": "code",
   "execution_count": 48,
   "metadata": {},
   "outputs": [],
   "source": [
    "def evaluate_model(test,pred):\n",
    "    mae = mean_absolute_error(test,pred)\n",
    "    mse = mean_squared_error(test,pred)\n",
    "    rmse = np.sqrt(mean_squared_error(test,pred))\n",
    "    r2score = r2_score(test,pred)\n",
    "    return r2score, mae, mse, rmse"
   ]
  },
  {
   "cell_type": "code",
   "execution_count": 69,
   "metadata": {},
   "outputs": [
    {
     "name": "stdout",
     "output_type": "stream",
     "text": [
      "For LinearRegression\n",
      "-----------------------------------\n",
      "\n",
      "R2_score of LinearRegression for training dataset is 0.8743172040139593\n",
      "MAE of LinearRegression for training dataset is 4.266711846071956\n",
      "MSE of LinearRegression for training dataset is 28.33487038064859\n",
      "RMSE of LinearRegression for training dataset is 5.323050852720514\n",
      "\n",
      "\n",
      "R2_score of LinearRegression for test dataset is 0.8804332983749565\n",
      "MAE of LinearRegression for test dataset is 4.21476314247485\n",
      "MSE of LinearRegression for test dataset is 29.095169866715484\n",
      "RMSE of LinearRegression for test dataset is 5.393993869732842\n",
      "\n",
      "===================================\n",
      "For SVM Regressor\n",
      "-----------------------------------\n",
      "\n",
      "R2_score of SVM Regressor for training dataset is 0.8081281585902299\n",
      "MAE of SVM Regressor for training dataset is 4.869189452384868\n",
      "MSE of SVM Regressor for training dataset is 43.257024268031365\n",
      "RMSE of SVM Regressor for training dataset is 6.57700724251018\n",
      "\n",
      "\n",
      "R2_score of SVM Regressor for test dataset is 0.7286001513223705\n",
      "MAE of SVM Regressor for test dataset is 5.4015392444969965\n",
      "MSE of SVM Regressor for test dataset is 66.04200493745648\n",
      "RMSE of SVM Regressor for test dataset is 8.126623218622633\n",
      "\n",
      "===================================\n",
      "For Lasso\n",
      "-----------------------------------\n",
      "\n",
      "R2_score of Lasso for training dataset is 0.8071466723085148\n",
      "MAE of Lasso for training dataset is 5.206296077972952\n",
      "MSE of Lasso for training dataset is 43.47829788272618\n",
      "RMSE of Lasso for training dataset is 6.593807540619166\n",
      "\n",
      "\n",
      "R2_score of Lasso for test dataset is 0.825320079562973\n",
      "MAE of Lasso for test dataset is 5.157879138921816\n",
      "MSE of Lasso for test dataset is 42.50633235127343\n",
      "RMSE of Lasso for test dataset is 6.5196880562856245\n",
      "\n",
      "===================================\n",
      "For Ridge\n",
      "-----------------------------------\n",
      "\n",
      "R2_score of Ridge for training dataset is 0.8743042615212909\n",
      "MAE of Ridge for training dataset is 4.264987823725982\n",
      "MSE of Ridge for training dataset is 28.33778823308244\n",
      "RMSE of Ridge for training dataset is 5.323324922741654\n",
      "\n",
      "\n",
      "R2_score of Ridge for test dataset is 0.8805931485028737\n",
      "MAE of Ridge for test dataset is 4.211100688014261\n",
      "MSE of Ridge for test dataset is 29.056272192348317\n",
      "RMSE of Ridge for test dataset is 5.390387016935641\n",
      "\n",
      "===================================\n",
      "For KNeighborsRegressor\n",
      "-----------------------------------\n",
      "\n",
      "R2_score of KNeighborsRegressor for training dataset is 0.8552483303848109\n",
      "MAE of KNeighborsRegressor for training dataset is 4.5165\n",
      "MSE of KNeighborsRegressor for training dataset is 32.6339\n",
      "RMSE of KNeighborsRegressor for training dataset is 5.712608861107156\n",
      "\n",
      "\n",
      "R2_score of KNeighborsRegressor for test dataset is 0.7837702557426202\n",
      "MAE of KNeighborsRegressor for test dataset is 5.619\n",
      "MSE of KNeighborsRegressor for test dataset is 52.617\n",
      "RMSE of KNeighborsRegressor for test dataset is 7.253757646902741\n",
      "\n",
      "===================================\n",
      "For AdaBoost\n",
      "-----------------------------------\n",
      "\n",
      "R2_score of AdaBoost for training dataset is 0.8528659618879598\n",
      "MAE of AdaBoost for training dataset is 4.698294137020688\n",
      "MSE of AdaBoost for training dataset is 33.17099898819176\n",
      "RMSE of AdaBoost for training dataset is 5.759426966998693\n",
      "\n",
      "\n",
      "R2_score of AdaBoost for test dataset is 0.8508173698865169\n",
      "MAE of AdaBoost for test dataset is 4.660768896602305\n",
      "MSE of AdaBoost for test dataset is 36.3018625196068\n",
      "RMSE of AdaBoost for test dataset is 6.025102697847299\n",
      "\n",
      "===================================\n",
      "For GradientBoost\n",
      "-----------------------------------\n",
      "\n",
      "R2_score of GradientBoost for training dataset is 0.9050396644022572\n",
      "MAE of GradientBoost for training dataset is 3.722632404265115\n",
      "MSE of GradientBoost for training dataset is 21.408568924292386\n",
      "RMSE of GradientBoost for training dataset is 4.626939477050936\n",
      "\n",
      "\n",
      "R2_score of GradientBoost for test dataset is 0.8720085393294942\n",
      "MAE of GradientBoost for test dataset is 4.3120541171379765\n",
      "MSE of GradientBoost for test dataset is 31.145237253223808\n",
      "RMSE of GradientBoost for test dataset is 5.5807918123886155\n",
      "\n",
      "===================================\n",
      "For DecisionTree\n",
      "-----------------------------------\n",
      "\n",
      "R2_score of DecisionTree for training dataset is 0.9996534669718089\n",
      "MAE of DecisionTree for training dataset is 0.01875\n",
      "MSE of DecisionTree for training dataset is 0.078125\n",
      "RMSE of DecisionTree for training dataset is 0.2795084971874737\n",
      "\n",
      "\n",
      "R2_score of DecisionTree for test dataset is 0.7325946089889634\n",
      "MAE of DecisionTree for test dataset is 6.33\n",
      "MSE of DecisionTree for test dataset is 65.07\n",
      "RMSE of DecisionTree for test dataset is 8.066597795849251\n",
      "\n",
      "===================================\n",
      "For RandomForestRegressor\n",
      "-----------------------------------\n",
      "\n",
      "R2_score of RandomForestRegressor for training dataset is 0.976360822942435\n",
      "MAE of RandomForestRegressor for training dataset is 1.8371572916666667\n",
      "MSE of RandomForestRegressor for training dataset is 5.329393037259464\n",
      "RMSE of RandomForestRegressor for training dataset is 2.308547820007085\n",
      "\n",
      "\n",
      "R2_score of RandomForestRegressor for test dataset is 0.8546708473053837\n",
      "MAE of RandomForestRegressor for test dataset is 4.589644841269841\n",
      "MSE of RandomForestRegressor for test dataset is 35.36416349006362\n",
      "RMSE of RandomForestRegressor for test dataset is 5.946777571934536\n",
      "\n",
      "===================================\n",
      "For CatBoost\n",
      "-----------------------------------\n",
      "\n",
      "R2_score of CatBoost for training dataset is 0.9589358676277713\n",
      "MAE of CatBoost for training dataset is 2.405393926779502\n",
      "MSE of CatBoost for training dataset is 9.257805405523678\n",
      "RMSE of CatBoost for training dataset is 3.042664195326799\n",
      "\n",
      "\n",
      "R2_score of CatBoost for test dataset is 0.8516318920747058\n",
      "MAE of CatBoost for test dataset is 4.612531714976557\n",
      "MSE of CatBoost for test dataset is 36.10365799356841\n",
      "RMSE of CatBoost for test dataset is 6.008631956907363\n",
      "\n",
      "===================================\n"
     ]
    }
   ],
   "source": [
    "model = {\n",
    "    'LinearRegression':LinearRegression(),\n",
    "    'SVM Regressor':SVR(),\n",
    "    'Lasso':Lasso(),\n",
    "    'Ridge':Ridge(),\n",
    "    'KNeighborsRegressor':KNeighborsRegressor(),\n",
    "    'AdaBoost':AdaBoostRegressor(),\n",
    "    'GradientBoost':GradientBoostingRegressor(),\n",
    "    'DecisionTree':DecisionTreeRegressor(),\n",
    "    'RandomForestRegressor':RandomForestRegressor(),\n",
    "    'CatBoost':CatBoostRegressor(logging_level='Silent')\n",
    "}\n",
    "model_list=[]\n",
    "r2_list=[]\n",
    "for i in range(len(list(model))):\n",
    "    model1 = list(model.values())[i]\n",
    "    model1.fit(x_train,y_train)\n",
    "\n",
    "    y_train_pred = model1.predict(x_train)\n",
    "    y_test_pred = model1.predict(x_test)\n",
    "\n",
    "    train_r2score, train_mae, train_mse, train_rmse = evaluate_model(y_train,y_train_pred)\n",
    "    test_r2score, test_mae, test_mse, test_rmse = evaluate_model(y_test,y_test_pred)\n",
    "\n",
    "    ## For trainig data\n",
    "    print(f'For {list(model.keys())[i]}')\n",
    "    print('-'*35,end=\"\\n\\n\")\n",
    "    \n",
    "    print(f'R2_score of {list(model.keys())[i]} for training dataset is {train_r2score}')\n",
    "    print(f'MAE of {list(model.keys())[i]} for training dataset is {train_mae}')\n",
    "    print(f'MSE of {list(model.keys())[i]} for training dataset is {train_mse}')\n",
    "    print(f'RMSE of {list(model.keys())[i]} for training dataset is {train_rmse}')\n",
    "    print('\\n')\n",
    "    ## For test data\n",
    "    print(f'R2_score of {list(model.keys())[i]} for test dataset is {test_r2score}')\n",
    "    print(f'MAE of {list(model.keys())[i]} for test dataset is {test_mae}')\n",
    "    print(f'MSE of {list(model.keys())[i]} for test dataset is {test_mse}')\n",
    "    print(f'RMSE of {list(model.keys())[i]} for test dataset is {test_rmse}',end='\\n\\n')\n",
    "\n",
    "    model_list.append(list(model.keys())[i])\n",
    "    r2_list.append(test_r2score)\n",
    "    \n",
    "    print('='*35)"
   ]
  },
  {
   "cell_type": "code",
   "execution_count": 81,
   "metadata": {},
   "outputs": [
    {
     "data": {
      "text/html": [
       "<div>\n",
       "<style scoped>\n",
       "    .dataframe tbody tr th:only-of-type {\n",
       "        vertical-align: middle;\n",
       "    }\n",
       "\n",
       "    .dataframe tbody tr th {\n",
       "        vertical-align: top;\n",
       "    }\n",
       "\n",
       "    .dataframe thead th {\n",
       "        text-align: right;\n",
       "    }\n",
       "</style>\n",
       "<table border=\"1\" class=\"dataframe\">\n",
       "  <thead>\n",
       "    <tr style=\"text-align: right;\">\n",
       "      <th></th>\n",
       "      <th>Models</th>\n",
       "      <th>R2 Score</th>\n",
       "    </tr>\n",
       "  </thead>\n",
       "  <tbody>\n",
       "    <tr>\n",
       "      <th>3</th>\n",
       "      <td>Ridge</td>\n",
       "      <td>0.880593</td>\n",
       "    </tr>\n",
       "    <tr>\n",
       "      <th>0</th>\n",
       "      <td>LinearRegression</td>\n",
       "      <td>0.880433</td>\n",
       "    </tr>\n",
       "    <tr>\n",
       "      <th>6</th>\n",
       "      <td>GradientBoost</td>\n",
       "      <td>0.872009</td>\n",
       "    </tr>\n",
       "    <tr>\n",
       "      <th>8</th>\n",
       "      <td>RandomForestRegressor</td>\n",
       "      <td>0.854671</td>\n",
       "    </tr>\n",
       "    <tr>\n",
       "      <th>9</th>\n",
       "      <td>CatBoost</td>\n",
       "      <td>0.851632</td>\n",
       "    </tr>\n",
       "    <tr>\n",
       "      <th>5</th>\n",
       "      <td>AdaBoost</td>\n",
       "      <td>0.850817</td>\n",
       "    </tr>\n",
       "    <tr>\n",
       "      <th>2</th>\n",
       "      <td>Lasso</td>\n",
       "      <td>0.825320</td>\n",
       "    </tr>\n",
       "    <tr>\n",
       "      <th>4</th>\n",
       "      <td>KNeighborsRegressor</td>\n",
       "      <td>0.783770</td>\n",
       "    </tr>\n",
       "    <tr>\n",
       "      <th>7</th>\n",
       "      <td>DecisionTree</td>\n",
       "      <td>0.732595</td>\n",
       "    </tr>\n",
       "    <tr>\n",
       "      <th>1</th>\n",
       "      <td>SVM Regressor</td>\n",
       "      <td>0.728600</td>\n",
       "    </tr>\n",
       "  </tbody>\n",
       "</table>\n",
       "</div>"
      ],
      "text/plain": [
       "                  Models  R2 Score\n",
       "3                  Ridge  0.880593\n",
       "0       LinearRegression  0.880433\n",
       "6          GradientBoost  0.872009\n",
       "8  RandomForestRegressor  0.854671\n",
       "9               CatBoost  0.851632\n",
       "5               AdaBoost  0.850817\n",
       "2                  Lasso  0.825320\n",
       "4    KNeighborsRegressor  0.783770\n",
       "7           DecisionTree  0.732595\n",
       "1          SVM Regressor  0.728600"
      ]
     },
     "execution_count": 81,
     "metadata": {},
     "output_type": "execute_result"
    }
   ],
   "source": [
    "best_model=pd.DataFrame(list(zip(model_list,r2_list)),columns=['Models','R2 Score']).sort_values(by=['R2 Score'],ascending=False)\n",
    "best_model"
   ]
  },
  {
   "cell_type": "markdown",
   "metadata": {},
   "source": [
    "### Linear Regrssion"
   ]
  },
  {
   "cell_type": "code",
   "execution_count": 91,
   "metadata": {},
   "outputs": [
    {
     "name": "stdout",
     "output_type": "stream",
     "text": [
      "Accuracy of the model is: 88.043330%\n"
     ]
    }
   ],
   "source": [
    "model = LinearRegression()\n",
    "model.fit(x_train,y_train)\n",
    "y_pred = model.predict(x_test)\n",
    "score = r2_score(y_test,y_pred)*100\n",
    "print('Accuracy of the model is: %2f%%' %score)"
   ]
  },
  {
   "cell_type": "markdown",
   "metadata": {},
   "source": [
    "### visualize "
   ]
  },
  {
   "cell_type": "code",
   "execution_count": 93,
   "metadata": {},
   "outputs": [
    {
     "data": {
      "text/plain": [
       "Text(0, 0.5, 'Predicted')"
      ]
     },
     "execution_count": 93,
     "metadata": {},
     "output_type": "execute_result"
    },
    {
     "data": {
      "image/png": "[encoded data removed]",
      "text/plain": [
       "<Figure size 640x480 with 1 Axes>"
      ]
     },
     "metadata": {},
     "output_type": "display_data"
    }
   ],
   "source": [
    "plt.scatter(y_test,y_pred)\n",
    "plt.xlabel('Actual')\n",
    "plt.ylabel('Predicted')"
   ]
  },
  {
   "cell_type": "code",
   "execution_count": 94,
   "metadata": {},
   "outputs": [
    {
     "data": {
      "text/plain": [
       "<Axes: xlabel='math_score'>"
      ]
     },
     "execution_count": 94,
     "metadata": {},
     "output_type": "execute_result"
    },
    {
     "data": {
      "image/png": "[encoded data removed]",
      "text/plain": [
       "<Figure size 640x480 with 1 Axes>"
      ]
     },
     "metadata": {},
     "output_type": "display_data"
    }
   ],
   "source": [
    "sns.regplot(x=y_test,y=y_pred,ci=None,color='Red')"
   ]
  }
 ],
 "metadata": {
  "kernelspec": {
   "display_name": "Python 3",
   "language": "python",
   "name": "python3"
  },
  "language_info": {
   "codemirror_mode": {
    "name": "ipython",
    "version": 3
   },
   "file_extension": ".py",
   "mimetype": "text/x-python",
   "name": "python",
   "nbconvert_exporter": "python",
   "pygments_lexer": "ipython3",
   "version": "3.12.0"
  }
 },
 "nbformat": 4,
 "nbformat_minor": 2
}
